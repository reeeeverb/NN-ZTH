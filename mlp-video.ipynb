{
 "cells": [
  {
   "cell_type": "code",
   "execution_count": 2,
   "id": "3833af78-d5cb-4f90-8e35-a8d1f8283108",
   "metadata": {},
   "outputs": [],
   "source": [
    "import torch\n",
    "import torch.nn.functional as F\n",
    "import matplotlib.pyplot as plt\n",
    "%matplotlib inline"
   ]
  },
  {
   "cell_type": "code",
   "execution_count": 5,
   "id": "4e1714d9-8371-4307-996d-4a6952d9a513",
   "metadata": {},
   "outputs": [
    {
     "data": {
      "text/plain": [
       "['emma', 'olivia', 'ava', 'isabella', 'sophia', 'charlotte', 'mia', 'amelia']"
      ]
     },
     "execution_count": 5,
     "metadata": {},
     "output_type": "execute_result"
    }
   ],
   "source": [
    "words = open('names.txt','r').read().splitlines()\n",
    "words[:8]"
   ]
  },
  {
   "cell_type": "code",
   "execution_count": 7,
   "id": "d7c1d68a-dda3-4a44-9b40-383c33c37d66",
   "metadata": {},
   "outputs": [
    {
     "data": {
      "text/plain": [
       "32033"
      ]
     },
     "execution_count": 7,
     "metadata": {},
     "output_type": "execute_result"
    }
   ],
   "source": [
    "len(words)"
   ]
  },
  {
   "cell_type": "code",
   "execution_count": 11,
   "id": "a1051aa7-6e63-4473-bef0-9f434d8f6ad9",
   "metadata": {},
   "outputs": [
    {
     "name": "stdout",
     "output_type": "stream",
     "text": [
      "{1: 'a', 2: 'b', 3: 'c', 4: 'd', 5: 'e', 6: 'f', 7: 'g', 8: 'h', 9: 'i', 10: 'j', 11: 'k', 12: 'l', 13: 'm', 14: 'n', 15: 'o', 16: 'p', 17: 'q', 18: 'r', 19: 's', 20: 't', 21: 'u', 22: 'v', 23: 'w', 24: 'x', 25: 'y', 26: 'z', 0: '.'}\n"
     ]
    }
   ],
   "source": [
    "chars = sorted(list(set(''.join(words))))\n",
    "stoi = {s:i+1 for i,s in enumerate(chars)}\n",
    "stoi['.'] = 0\n",
    "itos = {i:s for s,i in stoi.items()}\n",
    "print(itos)"
   ]
  },
  {
   "cell_type": "code",
   "execution_count": 58,
   "id": "1a56ff52-37ee-4b37-bc2e-384cbf5ed516",
   "metadata": {},
   "outputs": [],
   "source": [
    "block_size = 3 # context length: how many characters should we look at at once\n",
    "X,Y = [], []\n",
    "for w in words:\n",
    "    context = [0] * block_size\n",
    "    for ch in w + '.':\n",
    "        ix = stoi[ch]\n",
    "        X.append(context)\n",
    "        Y.append(ix)\n",
    "        context = context[1:] + [ix] # crop and append\n",
    "\n",
    "X = torch.tensor(X)\n",
    "Y = torch.tensor(Y)"
   ]
  },
  {
   "cell_type": "markdown",
   "id": "cbce6000-079d-46d1-85ba-26aea00f9217",
   "metadata": {},
   "source": [
    "### Goal\n",
    "- get X tensor to be transformed into Y tensor\n",
    "- we initalize to random numbers "
   ]
  },
  {
   "cell_type": "code",
   "execution_count": 59,
   "id": "082072a0-db22-4e0c-8b8b-9466ae357534",
   "metadata": {},
   "outputs": [
    {
     "data": {
      "text/plain": [
       "(torch.Size([228146, 3]), torch.Size([228146]))"
      ]
     },
     "execution_count": 59,
     "metadata": {},
     "output_type": "execute_result"
    }
   ],
   "source": [
    "X.shape, Y.shape"
   ]
  },
  {
   "cell_type": "code",
   "execution_count": 60,
   "id": "0827c912-ab9a-48a4-88aa-168adb784d00",
   "metadata": {},
   "outputs": [],
   "source": [
    "C = torch.randn((27,2))"
   ]
  },
  {
   "cell_type": "code",
   "execution_count": 61,
   "id": "87029c36-c06e-473e-a833-7c64e7f023cc",
   "metadata": {},
   "outputs": [
    {
     "data": {
      "text/plain": [
       "tensor([[-1.4959,  0.5486],\n",
       "        [ 1.4653, -1.6270],\n",
       "        [-0.0720, -0.7127],\n",
       "        [ 1.0548, -0.3560],\n",
       "        [ 0.2174,  0.3312],\n",
       "        [-0.6899, -0.3493],\n",
       "        [ 1.9372,  0.0580],\n",
       "        [ 0.1691,  0.1341],\n",
       "        [ 1.1063, -0.2964],\n",
       "        [ 0.5786, -0.5422],\n",
       "        [-0.6661,  1.1575],\n",
       "        [-0.7267, -1.3268],\n",
       "        [-0.5680, -1.1404],\n",
       "        [ 1.1535,  0.2077],\n",
       "        [-0.7752,  0.7500],\n",
       "        [-0.1632,  0.3342],\n",
       "        [ 0.3085,  0.3519],\n",
       "        [ 1.1856,  0.0638],\n",
       "        [-0.3811, -1.3024],\n",
       "        [-2.2456,  1.0355],\n",
       "        [ 0.3671,  0.3592],\n",
       "        [ 1.3277, -0.7941],\n",
       "        [ 0.4666, -1.0034],\n",
       "        [-0.2414, -0.4423],\n",
       "        [-0.0833,  0.2128],\n",
       "        [-0.3004, -0.2000],\n",
       "        [ 1.5248, -2.4851]])"
      ]
     },
     "execution_count": 61,
     "metadata": {},
     "output_type": "execute_result"
    }
   ],
   "source": [
    "C"
   ]
  },
  {
   "cell_type": "code",
   "execution_count": 62,
   "id": "5202f1e3-8de0-4b20-922c-081c47fbfd94",
   "metadata": {},
   "outputs": [
    {
     "data": {
      "text/plain": [
       "torch.Size([228146, 3, 2])"
      ]
     },
     "execution_count": 62,
     "metadata": {},
     "output_type": "execute_result"
    }
   ],
   "source": [
    "emb = C[X]\n",
    "emb.shape"
   ]
  },
  {
   "cell_type": "code",
   "execution_count": 63,
   "id": "6331cb15-3598-43e6-a6bb-1018dc926221",
   "metadata": {},
   "outputs": [],
   "source": [
    "W1 = torch.randn((6,100))\n",
    "b1 = torch.randn(100)"
   ]
  },
  {
   "cell_type": "code",
   "execution_count": 64,
   "id": "6a52dbb3-ea61-44ce-ae7a-14b5c3b3bd63",
   "metadata": {},
   "outputs": [
    {
     "data": {
      "text/plain": [
       "torch.Size([228146, 6])"
      ]
     },
     "execution_count": 64,
     "metadata": {},
     "output_type": "execute_result"
    }
   ],
   "source": [
    "torch.cat([emb[:,0,:], emb[:,1,:], emb[:,2,:]],1).shape"
   ]
  },
  {
   "cell_type": "code",
   "execution_count": 65,
   "id": "3570bdf9-b144-4cc1-943f-1011faeb2fd6",
   "metadata": {},
   "outputs": [
    {
     "data": {
      "text/plain": [
       "torch.Size([228146, 6])"
      ]
     },
     "execution_count": 65,
     "metadata": {},
     "output_type": "execute_result"
    }
   ],
   "source": [
    "# this does the same thing as the code above but generalized\n",
    "torch.cat(torch.unbind(emb,1),1).shape"
   ]
  },
  {
   "cell_type": "code",
   "execution_count": 66,
   "id": "95afef4a-2935-498f-ae1c-0883dba56db6",
   "metadata": {},
   "outputs": [
    {
     "data": {
      "text/plain": [
       "tensor([[[ 0,  1],\n",
       "         [ 2,  3],\n",
       "         [ 4,  5]],\n",
       "\n",
       "        [[ 6,  7],\n",
       "         [ 8,  9],\n",
       "         [10, 11]],\n",
       "\n",
       "        [[12, 13],\n",
       "         [14, 15],\n",
       "         [16, 17]]])"
      ]
     },
     "execution_count": 66,
     "metadata": {},
     "output_type": "execute_result"
    }
   ],
   "source": [
    "a = torch.arange(18)\n",
    "a.view(3,3,2) # Very efficent reorganizes the 18 elements"
   ]
  },
  {
   "cell_type": "code",
   "execution_count": 67,
   "id": "c0d12360-52bd-4875-b71e-cbf7212274f8",
   "metadata": {},
   "outputs": [
    {
     "data": {
      "text/plain": [
       "torch.Size([228146, 3, 2])"
      ]
     },
     "execution_count": 67,
     "metadata": {},
     "output_type": "execute_result"
    }
   ],
   "source": [
    "emb.shape"
   ]
  },
  {
   "cell_type": "code",
   "execution_count": 68,
   "id": "3501248f-e5fc-4213-853a-34e53598f142",
   "metadata": {},
   "outputs": [],
   "source": [
    "h = torch.tanh(emb.view(emb.shape[0],6) @ W1 + b1)"
   ]
  },
  {
   "cell_type": "code",
   "execution_count": 69,
   "id": "2a0a3077-4566-4320-a0d8-54fe62fb3276",
   "metadata": {},
   "outputs": [
    {
     "data": {
      "text/plain": [
       "tensor([[-0.9764, -0.9998, -0.9985,  ..., -0.9899,  0.9931, -0.9993],\n",
       "        [-0.6162, -0.9992, -0.9750,  ..., -0.9968,  0.9998, -0.9756],\n",
       "        [ 0.9533, -0.3049, -0.6274,  ..., -0.4537,  0.9974,  0.9916],\n",
       "        ...,\n",
       "        [ 0.5615,  1.0000, -0.5668,  ...,  1.0000, -1.0000,  0.7125],\n",
       "        [ 0.9972,  1.0000,  0.9052,  ...,  0.9976,  0.1745,  0.4146],\n",
       "        [ 0.5477,  0.9972, -0.1077,  ...,  0.9986, -0.4863,  0.9997]])"
      ]
     },
     "execution_count": 69,
     "metadata": {},
     "output_type": "execute_result"
    }
   ],
   "source": [
    "h"
   ]
  },
  {
   "cell_type": "code",
   "execution_count": 70,
   "id": "12f2f524-a29f-43a6-a455-2429cc0aeeb3",
   "metadata": {},
   "outputs": [],
   "source": [
    "W2 = torch.randn((100,27))\n",
    "b2 = torch.randn(27)"
   ]
  },
  {
   "cell_type": "code",
   "execution_count": 71,
   "id": "02327e85-e567-4f76-92e6-e247bf801952",
   "metadata": {},
   "outputs": [
    {
     "data": {
      "text/plain": [
       "torch.Size([228146, 27])"
      ]
     },
     "execution_count": 71,
     "metadata": {},
     "output_type": "execute_result"
    }
   ],
   "source": [
    "logits = h @ W2 + b2\n",
    "logits.shape"
   ]
  },
  {
   "cell_type": "code",
   "execution_count": 72,
   "id": "db71c68f-ea74-43cc-8e81-c1eb0c174402",
   "metadata": {},
   "outputs": [],
   "source": [
    "# counts = logits.exp()"
   ]
  },
  {
   "cell_type": "code",
   "execution_count": 73,
   "id": "74df543d-5873-4732-b051-d10b41d80554",
   "metadata": {},
   "outputs": [],
   "source": [
    "# prob = counts / counts.sum(1,keepdims=True)"
   ]
  },
  {
   "cell_type": "code",
   "execution_count": 74,
   "id": "0cd636db-f083-4223-a55b-a4436c9360a5",
   "metadata": {},
   "outputs": [],
   "source": [
    "# prob.shape"
   ]
  },
  {
   "cell_type": "code",
   "execution_count": 75,
   "id": "1b276d93-117f-4c9c-b9c7-6da4fc1c294b",
   "metadata": {},
   "outputs": [
    {
     "data": {
      "text/plain": [
       "tensor(0.2859, grad_fn=<NllLossBackward0>)"
      ]
     },
     "execution_count": 75,
     "metadata": {},
     "output_type": "execute_result"
    }
   ],
   "source": [
    "# loss = -prob[torch.arange(32), Y].log().mean()\n",
    "loss"
   ]
  },
  {
   "cell_type": "code",
   "execution_count": 76,
   "id": "470f2169-ede3-4189-b7d4-7c0606806c8b",
   "metadata": {},
   "outputs": [],
   "source": [
    "loss = F.cross_entropy(logits, Y) # replaces all of the commented lines"
   ]
  },
  {
   "cell_type": "code",
   "execution_count": 77,
   "id": "066ac32e-9b48-459c-a3cd-4a93a4c32812",
   "metadata": {},
   "outputs": [],
   "source": [
    "parameters = [C,W1,W2,b1,b2]"
   ]
  },
  {
   "cell_type": "code",
   "execution_count": 78,
   "id": "7f9f578b-aadc-475a-bde8-bd46ef3ea35f",
   "metadata": {},
   "outputs": [],
   "source": [
    "for p in parameters:\n",
    "    p.requires_grad = True"
   ]
  },
  {
   "cell_type": "code",
   "execution_count": 83,
   "id": "b9ac139d-fc92-4293-8e8b-34543d37c689",
   "metadata": {
    "scrolled": true,
    "tags": []
   },
   "outputs": [
    {
     "name": "stdout",
     "output_type": "stream",
     "text": [
      "3.1899073123931885\n"
     ]
    }
   ],
   "source": [
    "# Forward pass\n",
    "for _ in range (10):\n",
    "    ix = torch.randint(0,X.shape[0],(32,)) # Minibatch construct\n",
    "    emb = C[X[ix]]\n",
    "    h = torch.tanh(emb.view(-1,6) @ W1 +b1)\n",
    "    logits = h @ W2 +b2\n",
    "    loss = F.cross_entropy(logits,Y[ix])\n",
    "    for p in parameters:\n",
    "        p.grad = None\n",
    "    loss.backward()\n",
    "    for p in parameters:\n",
    "        p.data += -.1*p.grad\n",
    "        \n",
    "print(loss.item())"
   ]
  },
  {
   "cell_type": "code",
   "execution_count": 81,
   "id": "38cdc5be-e515-4516-a09a-05b18bc91fe1",
   "metadata": {},
   "outputs": [
    {
     "data": {
      "text/plain": [
       "tensor([  9412,  17402, 202574,  23759, 139326, 160478, 133368,  71927,  52673,\n",
       "        219645, 221026, 186312,  91022, 117111, 135566, 103331,  28176,   8706,\n",
       "        135977, 160640,  18188, 175423,  63686,  30565, 201930,  57826, 217499,\n",
       "        180004,  64878,  29785, 227535, 139233])"
      ]
     },
     "execution_count": 81,
     "metadata": {},
     "output_type": "execute_result"
    }
   ],
   "source": [
    "torch.randint(0,X.shape[0],(32,))"
   ]
  },
  {
   "cell_type": "code",
   "execution_count": 85,
   "id": "12184018-2998-4fca-a2df-c61e8ef74ecf",
   "metadata": {},
   "outputs": [
    {
     "data": {
      "text/plain": [
       "228146"
      ]
     },
     "execution_count": 85,
     "metadata": {},
     "output_type": "execute_result"
    }
   ],
   "source": [
    "X.shape[0]"
   ]
  },
  {
   "cell_type": "code",
   "execution_count": 87,
   "id": "e8de11f2-00a4-4509-8d88-bc97b80a87bf",
   "metadata": {},
   "outputs": [
    {
     "data": {
      "text/plain": [
       "tensor([[ 0.1128, -0.6394],\n",
       "        [ 0.1128, -0.6394],\n",
       "        [-0.0146, -0.4521]], grad_fn=<IndexBackward0>)"
      ]
     },
     "execution_count": 87,
     "metadata": {},
     "output_type": "execute_result"
    }
   ],
   "source": [
    "C[X[100]]"
   ]
  },
  {
   "cell_type": "code",
   "execution_count": null,
   "id": "eb285836-cfc3-4409-9c03-75de01cc8146",
   "metadata": {},
   "outputs": [],
   "source": []
  }
 ],
 "metadata": {
  "kernelspec": {
   "display_name": "Python 3 (ipykernel)",
   "language": "python",
   "name": "python3"
  },
  "language_info": {
   "codemirror_mode": {
    "name": "ipython",
    "version": 3
   },
   "file_extension": ".py",
   "mimetype": "text/x-python",
   "name": "python",
   "nbconvert_exporter": "python",
   "pygments_lexer": "ipython3",
   "version": "3.8.10"
  }
 },
 "nbformat": 4,
 "nbformat_minor": 5
}
