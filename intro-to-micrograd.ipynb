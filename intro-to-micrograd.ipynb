{
 "cells": [
  {
   "cell_type": "markdown",
   "id": "4a1913ea-d444-4eb1-ae24-9614a63039ef",
   "metadata": {},
   "source": [
    "### Micrograd uses scalars instead of vectors \n",
    "- most libraries use vectors(tensors)\n",
    "- not really any difference other than complexity"
   ]
  },
  {
   "cell_type": "code",
   "execution_count": 1,
   "id": "505b94be-cebe-42bd-a75b-1abaff025934",
   "metadata": {},
   "outputs": [],
   "source": [
    "from micrograd.engine import Value"
   ]
  },
  {
   "cell_type": "markdown",
   "id": "ae4b76e1-a8c8-4207-b2d6-39f9d4c63c0a",
   "metadata": {},
   "source": [
    "## Value\n",
    "- a variable type that creates a tree of all operations applied to the variable"
   ]
  },
  {
   "cell_type": "code",
   "execution_count": 5,
   "id": "62a0bfc2-e204-4fb9-95b1-b03593f66c11",
   "metadata": {},
   "outputs": [
    {
     "name": "stdout",
     "output_type": "stream",
     "text": [
      "24.7041\n"
     ]
    }
   ],
   "source": [
    "a = Value(-4.0)\n",
    "b = Value(2.0)\n",
    "\n",
    "c = a + b\n",
    "d = a * b + b**3\n",
    "\n",
    "c += c + 1\n",
    "c += 1 + c + (-a)\n",
    "\n",
    "d += d * 2 + (b + a).relu() \n",
    "d += 3 * d + (b - a).relu() \n",
    "\n",
    "e = c - d\n",
    "f = e**2\n",
    "g = f / 2.0\n",
    "g+= 10.0 / f\n",
    "\n",
    "print(f'{g.data:.4f}')"
   ]
  },
  {
   "cell_type": "markdown",
   "id": "49f4dcab-8881-42b5-a42a-b6b138654716",
   "metadata": {},
   "source": [
    "In this case, the a and b values will track all operations that all applied to them in a tree where a & b are respictevly the leaf nodes\n",
    " - this is considered the forward pass"
   ]
  },
  {
   "cell_type": "code",
   "execution_count": 6,
   "id": "60ece5f8-d492-40a7-9765-5fbc70c456c4",
   "metadata": {},
   "outputs": [],
   "source": [
    "g.backward()"
   ]
  },
  {
   "cell_type": "markdown",
   "id": "1d1bdf05-506c-4670-961d-354ea99de661",
   "metadata": {},
   "source": [
    "- this method will work backword from the g node and recursively apply the chain rule, with respect to all internal nodes and input\n",
    "- allows calculation of derivative with respect to a particular variable"
   ]
  },
  {
   "cell_type": "code",
   "execution_count": 7,
   "id": "589ff936-848e-4d72-bd28-18dbfc39d826",
   "metadata": {},
   "outputs": [
    {
     "name": "stdout",
     "output_type": "stream",
     "text": [
      "138.8338\n",
      "645.5773\n"
     ]
    }
   ],
   "source": [
    "print(f'{a.grad:.4f}')\n",
    "print(f'{b.grad:.4f}')"
   ]
  },
  {
   "cell_type": "markdown",
   "id": "5d919865-2d92-4437-a781-7e1b073a4831",
   "metadata": {},
   "source": [
    "- the partial derivatives aka dg/da and dg/db respecitvely\n",
    "    - how are a and b effecting the output of g\n",
    "- changing a positively will change g positively with a slope of 138.8338"
   ]
  },
  {
   "cell_type": "code",
   "execution_count": null,
   "id": "f24dfc8e-cf5c-4a6d-ae99-abba5319a3cc",
   "metadata": {},
   "outputs": [],
   "source": []
  }
 ],
 "metadata": {
  "kernelspec": {
   "display_name": "Python 3 (ipykernel)",
   "language": "python",
   "name": "python3"
  },
  "language_info": {
   "codemirror_mode": {
    "name": "ipython",
    "version": 3
   },
   "file_extension": ".py",
   "mimetype": "text/x-python",
   "name": "python",
   "nbconvert_exporter": "python",
   "pygments_lexer": "ipython3",
   "version": "3.8.10"
  }
 },
 "nbformat": 4,
 "nbformat_minor": 5
}
